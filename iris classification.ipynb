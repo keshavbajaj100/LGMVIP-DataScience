{
 "cells": [
  {
   "cell_type": "markdown",
   "id": "362bfaee",
   "metadata": {
    "tags": []
   },
   "source": [
    "# Iris Flower Classification Project using Machine Learning\n",
    "\n",
    "\n",
    "## Objective\n",
    "\n",
    "\n",
    "## Importing the libraries"
   ]
  },
  {
   "cell_type": "code",
   "execution_count": 1,
   "id": "ceac67fa",
   "metadata": {
    "tags": []
   },
   "outputs": [],
   "source": [
    "import pandas as pd, numpy as np, matplotlib.pyplot as plt, seaborn as sns, sklearn as sk\n",
    "%matplotlib inline"
   ]
  },
  {
   "cell_type": "markdown",
   "id": "3bce3e07-d6cb-4d2f-938f-d7601859421c",
   "metadata": {},
   "source": [
    "## Importing the dataset"
   ]
  },
  {
   "cell_type": "code",
   "execution_count": 2,
   "id": "68775eee",
   "metadata": {
    "tags": []
   },
   "outputs": [],
   "source": [
    "df = sns.load_dataset(\"iris\")"
   ]
  },
  {
   "cell_type": "markdown",
   "id": "ad58a748-6aa2-4f29-b04a-12427818704c",
   "metadata": {
    "tags": []
   },
   "source": [
    "##  Analyze and visualize the dataset"
   ]
  },
  {
   "cell_type": "code",
   "execution_count": 3,
   "id": "70886d7f-d847-4fc0-9c0f-650b67a45d1e",
   "metadata": {},
   "outputs": [],
   "source": [
    "columns = ['Sepal length', 'Sepal width', 'Petal length', 'Petal width', 'Class_labels'] "
   ]
  },
  {
   "cell_type": "code",
   "execution_count": 4,
   "id": "ff3f9b5c",
   "metadata": {
    "tags": []
   },
   "outputs": [
    {
     "data": {
      "text/html": [
       "<div>\n",
       "<style scoped>\n",
       "    .dataframe tbody tr th:only-of-type {\n",
       "        vertical-align: middle;\n",
       "    }\n",
       "\n",
       "    .dataframe tbody tr th {\n",
       "        vertical-align: top;\n",
       "    }\n",
       "\n",
       "    .dataframe thead th {\n",
       "        text-align: right;\n",
       "    }\n",
       "</style>\n",
       "<table border=\"1\" class=\"dataframe\">\n",
       "  <thead>\n",
       "    <tr style=\"text-align: right;\">\n",
       "      <th></th>\n",
       "      <th>sepal_length</th>\n",
       "      <th>sepal_width</th>\n",
       "      <th>petal_length</th>\n",
       "      <th>petal_width</th>\n",
       "      <th>species</th>\n",
       "    </tr>\n",
       "  </thead>\n",
       "  <tbody>\n",
       "    <tr>\n",
       "      <th>0</th>\n",
       "      <td>5.1</td>\n",
       "      <td>3.5</td>\n",
       "      <td>1.4</td>\n",
       "      <td>0.2</td>\n",
       "      <td>setosa</td>\n",
       "    </tr>\n",
       "    <tr>\n",
       "      <th>1</th>\n",
       "      <td>4.9</td>\n",
       "      <td>3.0</td>\n",
       "      <td>1.4</td>\n",
       "      <td>0.2</td>\n",
       "      <td>setosa</td>\n",
       "    </tr>\n",
       "    <tr>\n",
       "      <th>2</th>\n",
       "      <td>4.7</td>\n",
       "      <td>3.2</td>\n",
       "      <td>1.3</td>\n",
       "      <td>0.2</td>\n",
       "      <td>setosa</td>\n",
       "    </tr>\n",
       "    <tr>\n",
       "      <th>3</th>\n",
       "      <td>4.6</td>\n",
       "      <td>3.1</td>\n",
       "      <td>1.5</td>\n",
       "      <td>0.2</td>\n",
       "      <td>setosa</td>\n",
       "    </tr>\n",
       "    <tr>\n",
       "      <th>4</th>\n",
       "      <td>5.0</td>\n",
       "      <td>3.6</td>\n",
       "      <td>1.4</td>\n",
       "      <td>0.2</td>\n",
       "      <td>setosa</td>\n",
       "    </tr>\n",
       "  </tbody>\n",
       "</table>\n",
       "</div>"
      ],
      "text/plain": [
       "   sepal_length  sepal_width  petal_length  petal_width species\n",
       "0           5.1          3.5           1.4          0.2  setosa\n",
       "1           4.9          3.0           1.4          0.2  setosa\n",
       "2           4.7          3.2           1.3          0.2  setosa\n",
       "3           4.6          3.1           1.5          0.2  setosa\n",
       "4           5.0          3.6           1.4          0.2  setosa"
      ]
     },
     "execution_count": 4,
     "metadata": {},
     "output_type": "execute_result"
    }
   ],
   "source": [
    "df.head()"
   ]
  },
  {
   "cell_type": "code",
   "execution_count": 5,
   "id": "fcbf988c-2dff-401b-8d50-a01e32a0dbed",
   "metadata": {},
   "outputs": [
    {
     "data": {
      "text/plain": [
       "(150, 5)"
      ]
     },
     "execution_count": 5,
     "metadata": {},
     "output_type": "execute_result"
    }
   ],
   "source": [
    "df.shape"
   ]
  },
  {
   "cell_type": "code",
   "execution_count": 6,
   "id": "75969b3d-9898-44d4-b0d8-4c2ce947f9b5",
   "metadata": {
    "tags": []
   },
   "outputs": [
    {
     "data": {
      "text/html": [
       "<div>\n",
       "<style scoped>\n",
       "    .dataframe tbody tr th:only-of-type {\n",
       "        vertical-align: middle;\n",
       "    }\n",
       "\n",
       "    .dataframe tbody tr th {\n",
       "        vertical-align: top;\n",
       "    }\n",
       "\n",
       "    .dataframe thead th {\n",
       "        text-align: right;\n",
       "    }\n",
       "</style>\n",
       "<table border=\"1\" class=\"dataframe\">\n",
       "  <thead>\n",
       "    <tr style=\"text-align: right;\">\n",
       "      <th></th>\n",
       "      <th>sepal_length</th>\n",
       "      <th>sepal_width</th>\n",
       "      <th>petal_length</th>\n",
       "      <th>petal_width</th>\n",
       "    </tr>\n",
       "  </thead>\n",
       "  <tbody>\n",
       "    <tr>\n",
       "      <th>count</th>\n",
       "      <td>150.000000</td>\n",
       "      <td>150.000000</td>\n",
       "      <td>150.000000</td>\n",
       "      <td>150.000000</td>\n",
       "    </tr>\n",
       "    <tr>\n",
       "      <th>mean</th>\n",
       "      <td>5.843333</td>\n",
       "      <td>3.057333</td>\n",
       "      <td>3.758000</td>\n",
       "      <td>1.199333</td>\n",
       "    </tr>\n",
       "    <tr>\n",
       "      <th>std</th>\n",
       "      <td>0.828066</td>\n",
       "      <td>0.435866</td>\n",
       "      <td>1.765298</td>\n",
       "      <td>0.762238</td>\n",
       "    </tr>\n",
       "    <tr>\n",
       "      <th>min</th>\n",
       "      <td>4.300000</td>\n",
       "      <td>2.000000</td>\n",
       "      <td>1.000000</td>\n",
       "      <td>0.100000</td>\n",
       "    </tr>\n",
       "    <tr>\n",
       "      <th>25%</th>\n",
       "      <td>5.100000</td>\n",
       "      <td>2.800000</td>\n",
       "      <td>1.600000</td>\n",
       "      <td>0.300000</td>\n",
       "    </tr>\n",
       "    <tr>\n",
       "      <th>50%</th>\n",
       "      <td>5.800000</td>\n",
       "      <td>3.000000</td>\n",
       "      <td>4.350000</td>\n",
       "      <td>1.300000</td>\n",
       "    </tr>\n",
       "    <tr>\n",
       "      <th>75%</th>\n",
       "      <td>6.400000</td>\n",
       "      <td>3.300000</td>\n",
       "      <td>5.100000</td>\n",
       "      <td>1.800000</td>\n",
       "    </tr>\n",
       "    <tr>\n",
       "      <th>max</th>\n",
       "      <td>7.900000</td>\n",
       "      <td>4.400000</td>\n",
       "      <td>6.900000</td>\n",
       "      <td>2.500000</td>\n",
       "    </tr>\n",
       "  </tbody>\n",
       "</table>\n",
       "</div>"
      ],
      "text/plain": [
       "       sepal_length  sepal_width  petal_length  petal_width\n",
       "count    150.000000   150.000000    150.000000   150.000000\n",
       "mean       5.843333     3.057333      3.758000     1.199333\n",
       "std        0.828066     0.435866      1.765298     0.762238\n",
       "min        4.300000     2.000000      1.000000     0.100000\n",
       "25%        5.100000     2.800000      1.600000     0.300000\n",
       "50%        5.800000     3.000000      4.350000     1.300000\n",
       "75%        6.400000     3.300000      5.100000     1.800000\n",
       "max        7.900000     4.400000      6.900000     2.500000"
      ]
     },
     "execution_count": 6,
     "metadata": {},
     "output_type": "execute_result"
    }
   ],
   "source": [
    "# Some basic statistical analysis about the data\n",
    "df.describe()"
   ]
  },
  {
   "cell_type": "code",
   "execution_count": 7,
   "id": "f650aadf-75ad-43b1-a439-7f8aa20a1ae7",
   "metadata": {},
   "outputs": [
    {
     "name": "stdout",
     "output_type": "stream",
     "text": [
      "<class 'pandas.core.frame.DataFrame'>\n",
      "RangeIndex: 150 entries, 0 to 149\n",
      "Data columns (total 5 columns):\n",
      " #   Column        Non-Null Count  Dtype  \n",
      "---  ------        --------------  -----  \n",
      " 0   sepal_length  150 non-null    float64\n",
      " 1   sepal_width   150 non-null    float64\n",
      " 2   petal_length  150 non-null    float64\n",
      " 3   petal_width   150 non-null    float64\n",
      " 4   species       150 non-null    object \n",
      "dtypes: float64(4), object(1)\n",
      "memory usage: 6.0+ KB\n"
     ]
    }
   ],
   "source": [
    "df.info()"
   ]
  },
  {
   "cell_type": "code",
   "execution_count": 8,
   "id": "ea9684ca-f9a9-44f2-b463-8d0ffc3122b3",
   "metadata": {},
   "outputs": [
    {
     "data": {
      "text/plain": [
       "sepal_length    False\n",
       "sepal_width     False\n",
       "petal_length    False\n",
       "petal_width     False\n",
       "species         False\n",
       "dtype: bool"
      ]
     },
     "execution_count": 8,
     "metadata": {},
     "output_type": "execute_result"
    }
   ],
   "source": [
    "df.isnull().any()"
   ]
  },
  {
   "cell_type": "markdown",
   "id": "62e2a897-a262-439d-83a0-5fbfb0183d9f",
   "metadata": {},
   "source": [
    "##  Visualize the dataset"
   ]
  },
  {
   "cell_type": "code",
   "execution_count": 9,
   "id": "472f239f-4195-4c15-9ec7-8164f68f5a37",
   "metadata": {
    "tags": []
   },
   "outputs": [
    {
     "data": {
      "text/plain": [
       "<AxesSubplot:xlabel='species', ylabel='count'>"
      ]
     },
     "execution_count": 9,
     "metadata": {},
     "output_type": "execute_result"
    },
    {
     "data": {
      "image/png": "[encoded data removed]",
      "text/plain": [
       "<Figure size 432x288 with 1 Axes>"
      ]
     },
     "metadata": {
      "needs_background": "light"
     },
     "output_type": "display_data"
    }
   ],
   "source": [
    "# Visualize the whole dataset\n",
    "sns.countplot(x='species',data=df)"
   ]
  },
  {
   "cell_type": "code",
   "execution_count": 10,
   "id": "c48a664e-5a13-4857-bb48-c0e7b0876769",
   "metadata": {},
   "outputs": [
    {
     "data": {
      "text/html": [
       "<div>\n",
       "<style scoped>\n",
       "    .dataframe tbody tr th:only-of-type {\n",
       "        vertical-align: middle;\n",
       "    }\n",
       "\n",
       "    .dataframe tbody tr th {\n",
       "        vertical-align: top;\n",
       "    }\n",
       "\n",
       "    .dataframe thead th {\n",
       "        text-align: right;\n",
       "    }\n",
       "</style>\n",
       "<table border=\"1\" class=\"dataframe\">\n",
       "  <thead>\n",
       "    <tr style=\"text-align: right;\">\n",
       "      <th></th>\n",
       "      <th>sepal_width</th>\n",
       "      <th>petal_length</th>\n",
       "      <th>petal_width</th>\n",
       "      <th>species</th>\n",
       "    </tr>\n",
       "  </thead>\n",
       "  <tbody>\n",
       "    <tr>\n",
       "      <th>0</th>\n",
       "      <td>3.5</td>\n",
       "      <td>1.4</td>\n",
       "      <td>0.2</td>\n",
       "      <td>setosa</td>\n",
       "    </tr>\n",
       "    <tr>\n",
       "      <th>1</th>\n",
       "      <td>3.0</td>\n",
       "      <td>1.4</td>\n",
       "      <td>0.2</td>\n",
       "      <td>setosa</td>\n",
       "    </tr>\n",
       "    <tr>\n",
       "      <th>2</th>\n",
       "      <td>3.2</td>\n",
       "      <td>1.3</td>\n",
       "      <td>0.2</td>\n",
       "      <td>setosa</td>\n",
       "    </tr>\n",
       "    <tr>\n",
       "      <th>3</th>\n",
       "      <td>3.1</td>\n",
       "      <td>1.5</td>\n",
       "      <td>0.2</td>\n",
       "      <td>setosa</td>\n",
       "    </tr>\n",
       "    <tr>\n",
       "      <th>4</th>\n",
       "      <td>3.6</td>\n",
       "      <td>1.4</td>\n",
       "      <td>0.2</td>\n",
       "      <td>setosa</td>\n",
       "    </tr>\n",
       "    <tr>\n",
       "      <th>...</th>\n",
       "      <td>...</td>\n",
       "      <td>...</td>\n",
       "      <td>...</td>\n",
       "      <td>...</td>\n",
       "    </tr>\n",
       "    <tr>\n",
       "      <th>145</th>\n",
       "      <td>3.0</td>\n",
       "      <td>5.2</td>\n",
       "      <td>2.3</td>\n",
       "      <td>virginica</td>\n",
       "    </tr>\n",
       "    <tr>\n",
       "      <th>146</th>\n",
       "      <td>2.5</td>\n",
       "      <td>5.0</td>\n",
       "      <td>1.9</td>\n",
       "      <td>virginica</td>\n",
       "    </tr>\n",
       "    <tr>\n",
       "      <th>147</th>\n",
       "      <td>3.0</td>\n",
       "      <td>5.2</td>\n",
       "      <td>2.0</td>\n",
       "      <td>virginica</td>\n",
       "    </tr>\n",
       "    <tr>\n",
       "      <th>148</th>\n",
       "      <td>3.4</td>\n",
       "      <td>5.4</td>\n",
       "      <td>2.3</td>\n",
       "      <td>virginica</td>\n",
       "    </tr>\n",
       "    <tr>\n",
       "      <th>149</th>\n",
       "      <td>3.0</td>\n",
       "      <td>5.1</td>\n",
       "      <td>1.8</td>\n",
       "      <td>virginica</td>\n",
       "    </tr>\n",
       "  </tbody>\n",
       "</table>\n",
       "<p>150 rows × 4 columns</p>\n",
       "</div>"
      ],
      "text/plain": [
       "     sepal_width  petal_length  petal_width    species\n",
       "0            3.5           1.4          0.2     setosa\n",
       "1            3.0           1.4          0.2     setosa\n",
       "2            3.2           1.3          0.2     setosa\n",
       "3            3.1           1.5          0.2     setosa\n",
       "4            3.6           1.4          0.2     setosa\n",
       "..           ...           ...          ...        ...\n",
       "145          3.0           5.2          2.3  virginica\n",
       "146          2.5           5.0          1.9  virginica\n",
       "147          3.0           5.2          2.0  virginica\n",
       "148          3.4           5.4          2.3  virginica\n",
       "149          3.0           5.1          1.8  virginica\n",
       "\n",
       "[150 rows x 4 columns]"
      ]
     },
     "execution_count": 10,
     "metadata": {},
     "output_type": "execute_result"
    }
   ],
   "source": [
    "df_box=df.iloc[:,1:5]\n",
    "df_box"
   ]
  },
  {
   "cell_type": "code",
   "execution_count": 11,
   "id": "4f1140cc-d2f7-4a64-b713-4664b7ab016b",
   "metadata": {},
   "outputs": [
    {
     "data": {
      "text/plain": [
       "<AxesSubplot:>"
      ]
     },
     "execution_count": 11,
     "metadata": {},
     "output_type": "execute_result"
    },
    {
     "data": {
      "image/png": "[encoded data removed]",
      "text/plain": [
       "<Figure size 432x288 with 1 Axes>"
      ]
     },
     "metadata": {
      "needs_background": "light"
     },
     "output_type": "display_data"
    }
   ],
   "source": [
    "sns.boxplot(data=df_box,palette=\"Paired\")"
   ]
  },
  {
   "cell_type": "code",
   "execution_count": 12,
   "id": "02e9b086-1a6f-4873-a66c-52a7e8a03a01",
   "metadata": {},
   "outputs": [
    {
     "data": {
      "text/plain": [
       "<AxesSubplot:xlabel='species', ylabel='petal_length'>"
      ]
     },
     "execution_count": 12,
     "metadata": {},
     "output_type": "execute_result"
    },
    {
     "data": {
      "image/png": "[encoded data removed]",
      "text/plain": [
       "<Figure size 1152x1152 with 4 Axes>"
      ]
     },
     "metadata": {
      "needs_background": "light"
     },
     "output_type": "display_data"
    }
   ],
   "source": [
    "fig, ax=plt.subplots(2,2,figsize=(16,16))\n",
    "sns.boxplot(x='species',y='petal_length',data=df,ax=ax[0,0])\n",
    "sns.boxplot(x='species',y='sepal_length',data=df,ax=ax[0,1])\n",
    "sns.boxplot(x='species',y='sepal_length',data=df,ax=ax[1,0])\n",
    "sns.boxplot(x='species',y='petal_length',data=df,ax=ax[1,1])"
   ]
  },
  {
   "cell_type": "code",
   "execution_count": 13,
   "id": "ea50e2d8-7193-41ed-a6c4-b02204976ab3",
   "metadata": {},
   "outputs": [
    {
     "data": {
      "text/plain": [
       "<seaborn.axisgrid.PairGrid at 0x7f3d2dbeac20>"
      ]
     },
     "execution_count": 13,
     "metadata": {},
     "output_type": "execute_result"
    },
    {
     "data": {
      "image/png": "[encoded data removed]",
      "text/plain": [
       "<Figure size 720x720 with 20 Axes>"
      ]
     },
     "metadata": {
      "needs_background": "light"
     },
     "output_type": "display_data"
    }
   ],
   "source": [
    "sns.pairplot(df)\n"
   ]
  },
  {
   "cell_type": "code",
   "execution_count": 14,
   "id": "1cd94240-6ed5-4708-a605-409caf46e767",
   "metadata": {},
   "outputs": [
    {
     "data": {
      "text/plain": [
       "<matplotlib.legend.Legend at 0x7f3d2d1a5bd0>"
      ]
     },
     "execution_count": 14,
     "metadata": {},
     "output_type": "execute_result"
    },
    {
     "data": {
      "image/png": "[encoded data removed]",
      "text/plain": [
       "<Figure size 432x288 with 1 Axes>"
      ]
     },
     "metadata": {
      "needs_background": "light"
     },
     "output_type": "display_data"
    }
   ],
   "source": [
    "sns.scatterplot(x=df['sepal_length'],y=df['sepal_width'],hue=df['species'],palette=['green','red','blue'])\n",
    "plt.legend(bbox_to_anchor=(1.35, 1))"
   ]
  },
  {
   "cell_type": "code",
   "execution_count": 15,
   "id": "393f94aa-53a6-4809-9627-682bc15960ca",
   "metadata": {},
   "outputs": [
    {
     "name": "stdout",
     "output_type": "stream",
     "text": [
      "#######################After Lebel Encoding#######################\n",
      "     sepal_length  sepal_width  petal_length  petal_width  species\n",
      "0             5.1          3.5           1.4          0.2        0\n",
      "1             4.9          3.0           1.4          0.2        0\n",
      "2             4.7          3.2           1.3          0.2        0\n",
      "3             4.6          3.1           1.5          0.2        0\n",
      "4             5.0          3.6           1.4          0.2        0\n",
      "..            ...          ...           ...          ...      ...\n",
      "145           6.7          3.0           5.2          2.3        2\n",
      "146           6.3          2.5           5.0          1.9        2\n",
      "147           6.5          3.0           5.2          2.0        2\n",
      "148           6.2          3.4           5.4          2.3        2\n",
      "149           5.9          3.0           5.1          1.8        2\n",
      "\n",
      "[150 rows x 5 columns]\n"
     ]
    }
   ],
   "source": [
    "from sklearn import preprocessing\n",
    "le = preprocessing.LabelEncoder()\n",
    "df['species'] = le.fit_transform(df['species'])\n",
    "print(\"#######################After Lebel Encoding#######################\")\n",
    "print(df)"
   ]
  },
  {
   "cell_type": "code",
   "execution_count": 16,
   "id": "8e2e3acb-d3f6-46b5-86c3-e89608c930ef",
   "metadata": {},
   "outputs": [
    {
     "data": {
      "text/plain": [
       "<AxesSubplot:>"
      ]
     },
     "execution_count": 16,
     "metadata": {},
     "output_type": "execute_result"
    },
    {
     "data": {
      "image/png": "[encoded data removed]",
      "text/plain": [
       "<Figure size 720x720 with 2 Axes>"
      ]
     },
     "metadata": {
      "needs_background": "light"
     },
     "output_type": "display_data"
    }
   ],
   "source": [
    "correlation=df.corr()\n",
    "plt.figure(figsize=(10,10))\n",
    "sns.heatmap(correlation, annot = True, cmap ='plasma',\n",
    "            linecolor ='black', linewidths = 1)"
   ]
  },
  {
   "cell_type": "code",
   "execution_count": 17,
   "id": "1509cfe2-5b8d-405d-bb28-b546c1c513fc",
   "metadata": {},
   "outputs": [],
   "source": [
    "#selecting features[sepal_length_length,petal_width]\n",
    "x = df.iloc[:,[0,2,3]].values\n",
    "y = df.iloc[:,4].values"
   ]
  },
  {
   "cell_type": "code",
   "execution_count": 18,
   "id": "257e995d-0242-4565-85ff-4a6dbe5cc406",
   "metadata": {},
   "outputs": [],
   "source": [
    "#spliting x and y\n",
    "from sklearn.model_selection import train_test_split\n",
    "x_train,x_test,y_train,y_test = train_test_split(x,y,test_size=0.20,random_state= 42,stratify= df['species'])"
   ]
  },
  {
   "cell_type": "code",
   "execution_count": 19,
   "id": "c8b8faf6-1464-4e1a-89b0-7822f823a086",
   "metadata": {},
   "outputs": [],
   "source": [
    "#using minimaxscalar\n",
    "from sklearn.preprocessing import MinMaxScaler\n",
    "MinMaxScaler = preprocessing.MinMaxScaler()\n",
    "x_train = MinMaxScaler.fit_transform(x_train)\n",
    "x_test =MinMaxScaler.fit_transform(x_test)"
   ]
  },
  {
   "cell_type": "code",
   "execution_count": 20,
   "id": "9fc2527b-3a18-44ed-b8ad-d01d4276c14b",
   "metadata": {},
   "outputs": [],
   "source": [
    "# Calculate average of each features for all classes\n",
    "data = df.values\n",
    "X = data[:,0:4]\n",
    "Y = data[:,4]\n",
    "Y_Data = np.array([np.average(X[:, i][Y==j].astype('float32')) for i in range (X.shape[1])\n",
    " for j in (np.unique(Y))])\n",
    "Y_Data_reshaped = Y_Data.reshape(4, 3)\n",
    "Y_Data_reshaped = np.swapaxes(Y_Data_reshaped, 0, 1)\n",
    "X_axis = np.arange(len(columns)-1)\n",
    "width = 0.25"
   ]
  },
  {
   "cell_type": "code",
   "execution_count": 21,
   "id": "70a2b0d1-9120-4bf2-b3b9-bdc4c3015ea2",
   "metadata": {},
   "outputs": [
    {
     "data": {
      "image/png": "[encoded data removed]",
      "text/plain": [
       "<Figure size 432x288 with 1 Axes>"
      ]
     },
     "metadata": {
      "needs_background": "light"
     },
     "output_type": "display_data"
    }
   ],
   "source": [
    "# Plot the average\n",
    "plt.bar(X_axis, Y_Data_reshaped[0], width, label = 'Setosa')\n",
    "plt.bar(X_axis+width, Y_Data_reshaped[1], width, label = 'Versicolour')\n",
    "plt.bar(X_axis+width*2, Y_Data_reshaped[2], width, label = 'Virginica')\n",
    "plt.xticks(X_axis, columns[:4])\n",
    "plt.xlabel(\"Features\")\n",
    "plt.ylabel(\"Value in cm.\")\n",
    "plt.legend(bbox_to_anchor=(1.3,1))\n",
    "plt.show()"
   ]
  },
  {
   "cell_type": "markdown",
   "id": "2c877813-0f8e-4b90-9ae1-db9ad67bcef4",
   "metadata": {},
   "source": [
    "## Data Modeling"
   ]
  },
  {
   "cell_type": "markdown",
   "id": "0c7f26bb-8390-4e7b-b57a-d5752055f3fc",
   "metadata": {},
   "source": [
    "### Appling KNN Algorithm"
   ]
  },
  {
   "cell_type": "code",
   "execution_count": 22,
   "id": "cd45b98e-f625-499b-b3dc-2da6c08a7414",
   "metadata": {},
   "outputs": [
    {
     "data": {
      "text/plain": [
       "KNeighborsClassifier(n_neighbors=24)"
      ]
     },
     "execution_count": 22,
     "metadata": {},
     "output_type": "execute_result"
    }
   ],
   "source": [
    "# K nearest neighbors algorithm\n",
    "from sklearn.neighbors import KNeighborsClassifier\n",
    "knn = KNeighborsClassifier(n_neighbors= 24, metric = 'minkowski', p = 2)\n",
    "knn.fit(x_train,y_train)"
   ]
  },
  {
   "cell_type": "code",
   "execution_count": 23,
   "id": "fd0ed0c5-7131-4f78-9247-687d48607388",
   "metadata": {},
   "outputs": [],
   "source": [
    "#making prediction on test dataset\n",
    "y_pred_knn = knn.predict(x_test)"
   ]
  },
  {
   "cell_type": "code",
   "execution_count": 24,
   "id": "33cd0cd6-70a8-434f-8de5-fb4e1e5c42da",
   "metadata": {},
   "outputs": [],
   "source": [
    "#evatuation using accuracy_score metric\n",
    "from sklearn.metrics import accuracy_score\n",
    "accuracy_knn = accuracy_score(y_test,y_pred_knn)"
   ]
  },
  {
   "cell_type": "code",
   "execution_count": 25,
   "id": "f4eb745d-c437-4c72-83f2-e28979c3dafc",
   "metadata": {},
   "outputs": [
    {
     "name": "stdout",
     "output_type": "stream",
     "text": [
      "K Nearest neighbors:93.33333333333333\n"
     ]
    }
   ],
   "source": [
    "#Accuracy on test set\n",
    "print(\"K Nearest neighbors:\"+ str(accuracy_knn * 100))"
   ]
  },
  {
   "cell_type": "markdown",
   "id": "f0a47d3a-41f1-4827-8fee-6e021c7e6aa9",
   "metadata": {},
   "source": [
    "### Creating a list to store the accuracy of diffrent machine learning algorithm on dataset"
   ]
  },
  {
   "cell_type": "code",
   "execution_count": 26,
   "id": "b4f2dad4-1401-46bc-afc0-a75ad87c5cf7",
   "metadata": {},
   "outputs": [],
   "source": [
    "#Creating a list to store the accuracy of diffrent machine learning algorithm on dataset\n",
    "m_accuracy = []\n",
    "m_accuracy.append(accuracy_knn * 100)"
   ]
  },
  {
   "cell_type": "code",
   "execution_count": 27,
   "id": "dcead44e-d3d6-4fff-acf5-39bd87ea94b9",
   "metadata": {},
   "outputs": [
    {
     "name": "stdout",
     "output_type": "stream",
     "text": [
      "[[10  0  0]\n",
      " [ 0  8  2]\n",
      " [ 0  0 10]]\n"
     ]
    },
    {
     "data": {
      "text/plain": [
       "<AxesSubplot:>"
      ]
     },
     "execution_count": 27,
     "metadata": {},
     "output_type": "execute_result"
    },
    {
     "data": {
      "image/png": "[encoded data removed]",
      "text/plain": [
       "<Figure size 432x288 with 2 Axes>"
      ]
     },
     "metadata": {
      "needs_background": "light"
     },
     "output_type": "display_data"
    }
   ],
   "source": [
    "from sklearn.metrics import confusion_matrix\n",
    "cm= confusion_matrix(y_test, y_pred_knn)\n",
    "print (cm)\n",
    "#heatmap of confusion_matrix\n",
    "sns.heatmap(confusion_matrix(y_test, y_pred_knn), annot=True)"
   ]
  },
  {
   "cell_type": "markdown",
   "id": "50a6484a-ed8b-457c-b723-3c03bfad12f8",
   "metadata": {
    "tags": []
   },
   "source": [
    "## Applying SVM Algorithm"
   ]
  },
  {
   "cell_type": "markdown",
   "id": "e269cbdc-dd9c-44c2-8572-a75bce920a6d",
   "metadata": {},
   "source": [
    "### RBF SVM Classification:"
   ]
  },
  {
   "cell_type": "code",
   "execution_count": 28,
   "id": "0084daec-5845-4d40-bfb1-5aff9ea499cd",
   "metadata": {},
   "outputs": [
    {
     "name": "stdout",
     "output_type": "stream",
     "text": [
      "Accuracy: 96.66666666666667\n"
     ]
    }
   ],
   "source": [
    "from sklearn.svm import SVC\n",
    "\n",
    "########RBF SVM Classification\n",
    "classifier = SVC(kernel = 'rbf', random_state = 0)\n",
    "from sklearn.model_selection import train_test_split\n",
    "classifier.fit(x_train, y_train)\n",
    "y_pred_rbf_svm = classifier.predict(x_test)\n",
    "from sklearn.metrics import accuracy_score\n",
    "accuracy_rbf_svm = accuracy_score(y_test,y_pred_rbf_svm)* 100 \n",
    "print(\"Accuracy:\",accuracy_rbf_svm)"
   ]
  },
  {
   "cell_type": "code",
   "execution_count": 29,
   "id": "f757fcc5-91c2-4fb3-bb25-f824a10d7f02",
   "metadata": {},
   "outputs": [
    {
     "name": "stdout",
     "output_type": "stream",
     "text": [
      "[[10  0  0]\n",
      " [ 0  9  1]\n",
      " [ 0  0 10]]\n"
     ]
    },
    {
     "data": {
      "text/plain": [
       "<AxesSubplot:>"
      ]
     },
     "execution_count": 29,
     "metadata": {},
     "output_type": "execute_result"
    },
    {
     "data": {
      "image/png": "[encoded data removed]",
      "text/plain": [
       "<Figure size 432x288 with 2 Axes>"
      ]
     },
     "metadata": {
      "needs_background": "light"
     },
     "output_type": "display_data"
    }
   ],
   "source": [
    "from sklearn.metrics import confusion_matrix\n",
    "cm= confusion_matrix(y_test, y_pred_rbf_svm)\n",
    "print (cm)\n",
    "#heatmap of confusion_matrix\n",
    "sns.heatmap(confusion_matrix(y_test, y_pred_rbf_svm), annot=True)"
   ]
  },
  {
   "cell_type": "markdown",
   "id": "924f8a87-dd78-4641-9af0-597053766f10",
   "metadata": {},
   "source": [
    "## Linear SVM Classification:"
   ]
  },
  {
   "cell_type": "code",
   "execution_count": 30,
   "id": "43e14a26-5eab-45ac-a8ba-b7812d0e498a",
   "metadata": {},
   "outputs": [
    {
     "name": "stdout",
     "output_type": "stream",
     "text": [
      "Accuracy: 93.33333333333333\n"
     ]
    }
   ],
   "source": [
    "from sklearn.svm import SVC\n",
    "\n",
    "######Linear SVM Classification\n",
    "classifier = SVC(kernel = 'linear', random_state = 0)\n",
    "from sklearn.model_selection import train_test_split\n",
    "classifier.fit(x_train, y_train)\n",
    "y_pred_lin_svm = classifier.predict(x_test)\n",
    "from sklearn.metrics import accuracy_score\n",
    "accuracy_lin_svm = accuracy_score(y_test,y_pred_lin_svm)* 100 \n",
    "print(\"Accuracy:\",accuracy_lin_svm)"
   ]
  },
  {
   "cell_type": "code",
   "execution_count": 31,
   "id": "6377f074-00f4-46ca-8133-3179056a788a",
   "metadata": {},
   "outputs": [
    {
     "name": "stdout",
     "output_type": "stream",
     "text": [
      "[[10  0  0]\n",
      " [ 0  8  2]\n",
      " [ 0  0 10]]\n"
     ]
    },
    {
     "data": {
      "text/plain": [
       "<AxesSubplot:>"
      ]
     },
     "execution_count": 31,
     "metadata": {},
     "output_type": "execute_result"
    },
    {
     "data": {
      "image/png": "[encoded data removed]",
      "text/plain": [
       "<Figure size 432x288 with 2 Axes>"
      ]
     },
     "metadata": {
      "needs_background": "light"
     },
     "output_type": "display_data"
    }
   ],
   "source": [
    "from sklearn.metrics import confusion_matrix\n",
    "cm= confusion_matrix(y_test, y_pred_lin_svm)\n",
    "print (cm)\n",
    "#heatmap of confusion_matrix\n",
    "sns.heatmap(confusion_matrix(y_test, y_pred_lin_svm), annot=True)"
   ]
  },
  {
   "cell_type": "markdown",
   "id": "6487dcf2-5e0a-4dc7-93f3-e9d934223950",
   "metadata": {},
   "source": [
    "## polynomial SVM Classification:"
   ]
  },
  {
   "cell_type": "code",
   "execution_count": 32,
   "id": "d5a8abfe-cf3d-43f7-aa19-759f170278d4",
   "metadata": {},
   "outputs": [
    {
     "name": "stdout",
     "output_type": "stream",
     "text": [
      "Accuracy: 90.0\n"
     ]
    }
   ],
   "source": [
    "from sklearn.svm import SVC\n",
    "\n",
    "######polynomial SVM Classification\n",
    "classifier = SVC(kernel = 'poly', random_state = 0)\n",
    "from sklearn.model_selection import train_test_split\n",
    "classifier.fit(x_train, y_train)\n",
    "y_pred_poly_svm = classifier.predict(x_test)\n",
    "from sklearn.metrics import accuracy_score\n",
    "accuracy_poly_svm = accuracy_score(y_test,y_pred_poly_svm)* 100 \n",
    "print(\"Accuracy:\",accuracy_poly_svm)"
   ]
  },
  {
   "cell_type": "code",
   "execution_count": 33,
   "id": "be476909-264d-4976-911d-49bfcc1b24b4",
   "metadata": {},
   "outputs": [
    {
     "name": "stdout",
     "output_type": "stream",
     "text": [
      "[[10  0  0]\n",
      " [ 0  7  3]\n",
      " [ 0  0 10]]\n"
     ]
    },
    {
     "data": {
      "text/plain": [
       "<AxesSubplot:>"
      ]
     },
     "execution_count": 33,
     "metadata": {},
     "output_type": "execute_result"
    },
    {
     "data": {
      "image/png": "[encoded data removed]",
      "text/plain": [
       "<Figure size 432x288 with 2 Axes>"
      ]
     },
     "metadata": {
      "needs_background": "light"
     },
     "output_type": "display_data"
    }
   ],
   "source": [
    "from sklearn.metrics import confusion_matrix\n",
    "cm= confusion_matrix(y_test, y_pred_poly_svm)\n",
    "print (cm)\n",
    "#heatmap of confusion_matrix\n",
    "sns.heatmap(confusion_matrix(y_test, y_pred_poly_svm), annot=True)"
   ]
  },
  {
   "cell_type": "markdown",
   "id": "8d268d3c-ef69-4beb-a2f5-034b5cf88774",
   "metadata": {},
   "source": [
    "## Sigmoid SVM Classification"
   ]
  },
  {
   "cell_type": "code",
   "execution_count": 34,
   "id": "bca3f06d-0d51-4fb2-8bcb-42875509baa4",
   "metadata": {},
   "outputs": [
    {
     "name": "stdout",
     "output_type": "stream",
     "text": [
      "Accuracy: 13.333333333333334\n"
     ]
    }
   ],
   "source": [
    "from sklearn.svm import SVC\n",
    "\n",
    "######sigmoid SVM Classification\n",
    "classifier = SVC(kernel = 'sigmoid', random_state = 0)\n",
    "from sklearn.model_selection import train_test_split\n",
    "classifier.fit(x_train, y_train)\n",
    "y_pred_sigmoid_svm = classifier.predict(x_test)\n",
    "from sklearn.metrics import accuracy_score\n",
    "accuracy_sigmoid_svm = accuracy_score(y_test,y_pred_sigmoid_svm)* 100 \n",
    "print(\"Accuracy:\",accuracy_sigmoid_svm)"
   ]
  },
  {
   "cell_type": "code",
   "execution_count": 35,
   "id": "968e438b-2cf2-48a2-9fe0-97f4c0e6ca48",
   "metadata": {},
   "outputs": [
    {
     "name": "stdout",
     "output_type": "stream",
     "text": [
      "[[ 3  0  7]\n",
      " [ 6  1  3]\n",
      " [10  0  0]]\n"
     ]
    },
    {
     "data": {
      "text/plain": [
       "<AxesSubplot:>"
      ]
     },
     "execution_count": 35,
     "metadata": {},
     "output_type": "execute_result"
    },
    {
     "data": {
      "image/png": "[encoded data removed]",
      "text/plain": [
       "<Figure size 432x288 with 2 Axes>"
      ]
     },
     "metadata": {
      "needs_background": "light"
     },
     "output_type": "display_data"
    }
   ],
   "source": [
    "from sklearn.metrics import confusion_matrix\n",
    "cm= confusion_matrix(y_test, y_pred_sigmoid_svm)\n",
    "print (cm)\n",
    "#heatmap of confusion_matrix\n",
    "sns.heatmap(confusion_matrix(y_test, y_pred_sigmoid_svm), annot=True)"
   ]
  },
  {
   "cell_type": "markdown",
   "id": "8042d8cd-247f-4430-b1b1-08d335a82946",
   "metadata": {},
   "source": [
    "## After appliying all the svm algorithm, for different kernels,we find highest accuracy of SVM using RVB_SVM_Classification "
   ]
  },
  {
   "cell_type": "code",
   "execution_count": 36,
   "id": "1010e33b-0110-4599-9067-883f28cfb0a4",
   "metadata": {},
   "outputs": [],
   "source": [
    "m_accuracy.append(accuracy_rbf_svm)"
   ]
  },
  {
   "cell_type": "markdown",
   "id": "f6b327a3-1833-4407-b56d-c6981a93fd6d",
   "metadata": {},
   "source": [
    "## Applying Naive Bayes"
   ]
  },
  {
   "cell_type": "code",
   "execution_count": 37,
   "id": "7213508a-fe01-48bc-9d45-f45f9d52c7a6",
   "metadata": {},
   "outputs": [
    {
     "name": "stdout",
     "output_type": "stream",
     "text": [
      "Accuracy: 93.33333333333333\n"
     ]
    }
   ],
   "source": [
    "from sklearn.naive_bayes import GaussianNB\n",
    "nbayes_classifier = GaussianNB()\n",
    "nbayes_classifier.fit(x_train, y_train)\n",
    "y_pred_nav_svm = nbayes_classifier.predict(x_test)\n",
    "from sklearn.metrics import accuracy_score\n",
    "accuracy_nav_svm = accuracy_score(y_test,y_pred_nav_svm)* 100 \n",
    "print(\"Accuracy:\",accuracy_nav_svm)"
   ]
  },
  {
   "cell_type": "code",
   "execution_count": 38,
   "id": "76b17df5-cde4-40ba-a6e2-7e6f49ecdbbd",
   "metadata": {},
   "outputs": [
    {
     "name": "stdout",
     "output_type": "stream",
     "text": [
      "[[10  0  0]\n",
      " [ 0  8  2]\n",
      " [ 0  0 10]]\n"
     ]
    },
    {
     "data": {
      "text/plain": [
       "<AxesSubplot:>"
      ]
     },
     "execution_count": 38,
     "metadata": {},
     "output_type": "execute_result"
    },
    {
     "data": {
      "image/png": "[encoded data removed]",
      "text/plain": [
       "<Figure size 432x288 with 2 Axes>"
      ]
     },
     "metadata": {
      "needs_background": "light"
     },
     "output_type": "display_data"
    }
   ],
   "source": [
    "from sklearn.metrics import confusion_matrix\n",
    "cm= confusion_matrix(y_test, y_pred_nav_svm)\n",
    "print (cm)\n",
    "#heatmap of confusion_matrix\n",
    "sns.heatmap(confusion_matrix(y_test, y_pred_nav_svm), annot=True)"
   ]
  },
  {
   "cell_type": "code",
   "execution_count": 39,
   "id": "370ebda7-2aad-41dd-b379-177f21567ce7",
   "metadata": {},
   "outputs": [],
   "source": [
    "m_accuracy.append(accuracy_nav_svm)"
   ]
  },
  {
   "cell_type": "markdown",
   "id": "235b5ff4-ab36-4801-a267-5c4164616895",
   "metadata": {},
   "source": [
    "## Applying randomforest"
   ]
  },
  {
   "cell_type": "code",
   "execution_count": 40,
   "id": "9821afc8-13b2-42ee-8c3b-2d697a16cc8a",
   "metadata": {},
   "outputs": [
    {
     "name": "stdout",
     "output_type": "stream",
     "text": [
      "Accuracy: 86.66666666666667\n"
     ]
    }
   ],
   "source": [
    "from sklearn.ensemble import RandomForestClassifier\n",
    "classifier =  RandomForestClassifier(n_estimators = 100, criterion = 'gini', random_state = 21)\n",
    "classifier.fit(x_train, y_train)\n",
    "y_pred_rf_gini = classifier.predict(x_test)\n",
    "from sklearn.metrics import accuracy_score\n",
    "accuracy_rf_gini = accuracy_score(y_test,y_pred_rf_gini)* 100 \n",
    "print(\"Accuracy:\",accuracy_rf_gini)"
   ]
  },
  {
   "cell_type": "code",
   "execution_count": 41,
   "id": "cedc7b8b-cf20-4aff-8683-e9ced58f09e2",
   "metadata": {},
   "outputs": [
    {
     "name": "stdout",
     "output_type": "stream",
     "text": [
      "[[10  0  0]\n",
      " [ 0  6  4]\n",
      " [ 0  0 10]]\n"
     ]
    },
    {
     "data": {
      "text/plain": [
       "<AxesSubplot:>"
      ]
     },
     "execution_count": 41,
     "metadata": {},
     "output_type": "execute_result"
    },
    {
     "data": {
      "image/png": "[encoded data removed]",
      "text/plain": [
       "<Figure size 432x288 with 2 Axes>"
      ]
     },
     "metadata": {
      "needs_background": "light"
     },
     "output_type": "display_data"
    }
   ],
   "source": [
    "from sklearn.metrics import confusion_matrix\n",
    "cm= confusion_matrix(y_test, y_pred_rf_gini)\n",
    "print (cm)\n",
    "#heatmap of confusion_matrix\n",
    "sns.heatmap(confusion_matrix(y_test, y_pred_rf_gini), annot=True)"
   ]
  },
  {
   "cell_type": "code",
   "execution_count": 42,
   "id": "7ed45481-86cd-4f9d-95da-07e9416dad7c",
   "metadata": {},
   "outputs": [],
   "source": [
    "m_accuracy.append(accuracy_rf_gini)"
   ]
  },
  {
   "cell_type": "markdown",
   "id": "450fc5d9-04e2-4a46-83f1-6bb660aba595",
   "metadata": {},
   "source": [
    "## compairing all the accuracies"
   ]
  },
  {
   "cell_type": "code",
   "execution_count": 43,
   "id": "abfa3c06-f9e4-4494-9fe7-c3a6a4874bd9",
   "metadata": {},
   "outputs": [
    {
     "data": {
      "image/png": "[encoded data removed]",
      "text/plain": [
       "<Figure size 432x288 with 1 Axes>"
      ]
     },
     "metadata": {
      "needs_background": "light"
     },
     "output_type": "display_data"
    }
   ],
   "source": [
    "import matplotlib.pyplot as plt\n",
    "s= pd.Series(m_accuracy,index=['KNN','SVM','Naive Bayes','Random Forest'])\n",
    "s.plot.bar()\n",
    "plt.grid()\n",
    "plt.xticks(rotation = 45)\n",
    "plt.show()"
   ]
  },
  {
   "cell_type": "code",
   "execution_count": 44,
   "id": "a5977b83-a676-41bc-a391-1f735a468f2f",
   "metadata": {},
   "outputs": [
    {
     "name": "stdout",
     "output_type": "stream",
     "text": [
      "Accuracy using KNN algorithmis: 93.33333333333333\n",
      "Accuracy using SVM algorithmis: 96.66666666666667\n",
      "Accuracy using Naive Bayes algorithmis: 93.33333333333333\n",
      "Accuracy using Random Forest algorithmis: 93.33333333333333\n"
     ]
    }
   ],
   "source": [
    "print(\"Accuracy using KNN algorithmis:\",m_accuracy[0])\n",
    "print(\"Accuracy using SVM algorithmis:\",m_accuracy[1])\n",
    "print(\"Accuracy using Naive Bayes algorithmis:\",m_accuracy[2])\n",
    "print(\"Accuracy using Random Forest algorithmis:\",m_accuracy[2])\n"
   ]
  },
  {
   "cell_type": "markdown",
   "id": "6cb9a782-406c-4cc2-adc2-c37a26220796",
   "metadata": {},
   "source": [
    "### After applying different machine learning algorithms, we found that RBF_SVN classification gives the highest accuracy of 96.66%\n",
    "\n",
    "## Making a prediction "
   ]
  },
  {
   "cell_type": "code",
   "execution_count": 45,
   "id": "72d02d40-a482-4b48-93db-d5ae65f56fbe",
   "metadata": {},
   "outputs": [
    {
     "data": {
      "text/plain": [
       "0.9"
      ]
     },
     "execution_count": 45,
     "metadata": {},
     "output_type": "execute_result"
    }
   ],
   "source": [
    "from sklearn import tree\n",
    "model = tree.DecisionTreeClassifier(criterion='gini',min_samples_split=2)\n",
    "model.fit(x_train, y_train)\n",
    "model.score(x_test,y_test)\n",
    "predictions = model.predict(x_test)\n",
    "predictions\n",
    "from sklearn.metrics import accuracy_score\n",
    "accuracy_score(y_test, predictions)"
   ]
  }
 ],
 "metadata": {
  "kernelspec": {
   "display_name": "Python 3 (ipykernel)",
   "language": "python",
   "name": "python3"
  },
  "language_info": {
   "codemirror_mode": {
    "name": "ipython",
    "version": 3
   },
   "file_extension": ".py",
   "mimetype": "text/x-python",
   "name": "python",
   "nbconvert_exporter": "python",
   "pygments_lexer": "ipython3",
   "version": "3.10.1"
  }
 },
 "nbformat": 4,
 "nbformat_minor": 5
}
